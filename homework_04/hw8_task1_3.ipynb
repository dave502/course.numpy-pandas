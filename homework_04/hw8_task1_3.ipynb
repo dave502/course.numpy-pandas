{
  "nbformat": 4,
  "nbformat_minor": 0,
  "metadata": {
    "colab": {
      "name": "hw5_task1.ipynb",
      "provenance": [],
      "collapsed_sections": [],
      "authorship_tag": "ABX9TyPJySdbYT/uGKk/1W1W3Egx",
      "include_colab_link": true
    },
    "kernelspec": {
      "name": "python3",
      "display_name": "Python 3"
    },
    "language_info": {
      "name": "python"
    }
  },
  "cells": [
    {
      "cell_type": "markdown",
      "metadata": {
        "id": "view-in-github",
        "colab_type": "text"
      },
      "source": [
        "<a href=\"https://colab.research.google.com/github/dave502/course.numpy-pandas/blob/main/homework_04/hw8_task1_3.ipynb\" target=\"_parent\"><img src=\"https://colab.research.google.com/assets/colab-badge.svg\" alt=\"Open In Colab\"/></a>"
      ]
    },
    {
      "cell_type": "markdown",
      "metadata": {
        "id": "fpK5Oi8A8fhH"
      },
      "source": [
        "##Задание 1"
      ]
    },
    {
      "cell_type": "markdown",
      "metadata": {
        "id": "7R1Lx5x58a3i"
      },
      "source": [
        "Импортируйте библиотеки pandas, numpy и matplotlib.\n",
        "Загрузите \"Boston House Prices dataset\" из встроенных наборов \n",
        "данных библиотеки sklearn.\n",
        "Создайте датафреймы X и y из этих данных.\n",
        "Разбейте эти датафреймы на тренировочные (X_train, y_train) и тестовые (X_test, y_test)\n",
        "с помощью функции train_test_split так, чтобы размер тестовой выборки\n",
        "составлял 20% от всех данных, при этом аргумент random_state должен быть равен 42.\n",
        "Масштабируйте данные с помощью StandardScaler.\n"
      ]
    },
    {
      "cell_type": "code",
      "metadata": {
        "colab": {
          "base_uri": "https://localhost:8080/"
        },
        "id": "Hdfmgd768EVz",
        "outputId": "45ae1213-8866-418a-8907-89c1f88139b1"
      },
      "source": [
        "import numpy as np\n",
        "import pandas as pd\n",
        "import matplotlib.pyplot as plt\n",
        "from sklearn.model_selection import train_test_split\n",
        "from sklearn.preprocessing import StandardScaler\n",
        "from sklearn.datasets import load_boston\n",
        "from sklearn.manifold import TSNE\n",
        "\n",
        "%matplotlib inline\n",
        "\n",
        "boston = load_boston()\n",
        "\n",
        "X = pd.DataFrame(boston[\"data\"], columns=boston[\"feature_names\"])\n",
        "y = pd.DataFrame(boston[\"target\"], columns=[\"price\"])\n",
        "\n",
        "X_train, X_test, y_train, y_test = train_test_split(X, y, test_size=0.2, random_state=42)\n",
        "\n",
        "scaler = StandardScaler()\n",
        "\n",
        "X_train_scaled = pd.DataFrame(scaler.fit_transform(X_train), columns=X_train.columns)\n",
        "X_test_scaled = pd.DataFrame(scaler.transform(X_test), columns=X_test.columns)\n",
        "\n",
        "X_train_scaled.info()"
      ],
      "execution_count": 9,
      "outputs": [
        {
          "output_type": "stream",
          "text": [
            "<class 'pandas.core.frame.DataFrame'>\n",
            "RangeIndex: 404 entries, 0 to 403\n",
            "Data columns (total 13 columns):\n",
            " #   Column   Non-Null Count  Dtype  \n",
            "---  ------   --------------  -----  \n",
            " 0   CRIM     404 non-null    float64\n",
            " 1   ZN       404 non-null    float64\n",
            " 2   INDUS    404 non-null    float64\n",
            " 3   CHAS     404 non-null    float64\n",
            " 4   NOX      404 non-null    float64\n",
            " 5   RM       404 non-null    float64\n",
            " 6   AGE      404 non-null    float64\n",
            " 7   DIS      404 non-null    float64\n",
            " 8   RAD      404 non-null    float64\n",
            " 9   TAX      404 non-null    float64\n",
            " 10  PTRATIO  404 non-null    float64\n",
            " 11  B        404 non-null    float64\n",
            " 12  LSTAT    404 non-null    float64\n",
            "dtypes: float64(13)\n",
            "memory usage: 41.2 KB\n"
          ],
          "name": "stdout"
        }
      ]
    },
    {
      "cell_type": "markdown",
      "metadata": {
        "id": "hWz0wDUc_5i4"
      },
      "source": [
        "Постройте модель TSNE на тренировочный данных с параметрами:\n",
        "n_components=2, learning_rate=250, random_state=42.\n",
        "Постройте диаграмму рассеяния на этих данных.\n"
      ]
    },
    {
      "cell_type": "code",
      "metadata": {
        "colab": {
          "base_uri": "https://localhost:8080/",
          "height": 265
        },
        "id": "_kdLgsTp_Cw3",
        "outputId": "f2924579-4186-49c0-ab4f-7baee7b9f971"
      },
      "source": [
        "tsne = TSNE(n_components=2, learning_rate=250, random_state=42)\n",
        "X_train_tsne = tsne.fit_transform(X_train_scaled)\n",
        "\n",
        "plt.scatter(X_train_tsne[:, 0], X_train_tsne[:, 1])\n",
        "plt.show()"
      ],
      "execution_count": 2,
      "outputs": [
        {
          "output_type": "display_data",
          "data": {
            "image/png": "[encoded data removed]",
            "text/plain": [
              "<Figure size 432x288 with 1 Axes>"
            ]
          },
          "metadata": {
            "tags": [],
            "needs_background": "light"
          }
        }
      ]
    },
    {
      "cell_type": "markdown",
      "metadata": {
        "id": "IrdTdRsyAtWR"
      },
      "source": [
        "##Задание 2"
      ]
    },
    {
      "cell_type": "markdown",
      "metadata": {
        "id": "sueXlmPGAwmp"
      },
      "source": [
        "С помощью KMeans разбейте данные из тренировочного набора на 3 кластера,\n",
        "используйте все признаки из датафрейма X_train.\n",
        "Параметр max_iter должен быть равен 100, random_state сделайте равным 42.\n"
      ]
    },
    {
      "cell_type": "code",
      "metadata": {
        "id": "ArGBz4X0AENn"
      },
      "source": [
        "from sklearn.cluster import KMeans\n",
        "\n",
        "km_model = KMeans(n_clusters=3, random_state=42, max_iter=100)\n",
        "train_labels = km_model.fit_predict(X_train_scaled)\n"
      ],
      "execution_count": 48,
      "outputs": []
    },
    {
      "cell_type": "markdown",
      "metadata": {
        "id": "TObBrUwGCmK3"
      },
      "source": [
        "Постройте еще раз диаграмму рассеяния на данных, полученных с помощью TSNE,\n",
        "и раскрасьте точки из разных кластеров разными цветами."
      ]
    },
    {
      "cell_type": "code",
      "metadata": {
        "colab": {
          "base_uri": "https://localhost:8080/",
          "height": 281
        },
        "id": "9wMKJqmYBHyA",
        "outputId": "29038b62-cfd6-4e60-b069-4109bc815518"
      },
      "source": [
        "centers = km_model.cluster_centers_\n",
        "\n",
        "plt.scatter(X_train_tsne[:, 0], X_train_tsne[:, 1], c=train_labels)\n",
        "\n",
        "plt.title('X_train_tsne')\n",
        "plt.show()\n"
      ],
      "execution_count": 7,
      "outputs": [
        {
          "output_type": "display_data",
          "data": {
            "image/png": "[encoded data removed]",
            "text/plain": [
              "<Figure size 432x288 with 1 Axes>"
            ]
          },
          "metadata": {
            "tags": [],
            "needs_background": "light"
          }
        }
      ]
    },
    {
      "cell_type": "code",
      "metadata": {
        "colab": {
          "base_uri": "https://localhost:8080/"
        },
        "id": "8UYn_IHZDDw9",
        "outputId": "f7ff29d8-1321-4e76-bc78-62a8fba3bb5c"
      },
      "source": [
        "type(X_train.CRIM)"
      ],
      "execution_count": 13,
      "outputs": [
        {
          "output_type": "execute_result",
          "data": {
            "text/plain": [
              "pandas.core.series.Series"
            ]
          },
          "metadata": {
            "tags": []
          },
          "execution_count": 13
        }
      ]
    },
    {
      "cell_type": "markdown",
      "metadata": {
        "id": "SWSXwzHNdH8e"
      },
      "source": [
        "Вычислите средние значения price и CRIM в разных кластерах."
      ]
    },
    {
      "cell_type": "code",
      "metadata": {
        "colab": {
          "base_uri": "https://localhost:8080/"
        },
        "id": "F5YaQsa8R5Gl",
        "outputId": "ade16d76-4b84-478a-d1fa-e4c68a1a988a"
      },
      "source": [
        "print(\"Среднее значение CRIM всех данных = {}\".format(X_train.CRIM.mean()))\n",
        "for i in range(0,3):\n",
        "  print(\"Среднее значение CRIM кластера {} = {}\".format(i, X_train.CRIM[train_labels == i].mean()))"
      ],
      "execution_count": 56,
      "outputs": [
        {
          "output_type": "stream",
          "text": [
            "Среднее значение CRIM всех данных = 3.609124628712873\n",
            "Среднее значение CRIM кластера 0 = 0.42166020942408367\n",
            "Среднее значение CRIM кластера 1 = 10.797028425196853\n",
            "Среднее значение CRIM кластера 2 = 0.07356558139534886\n"
          ],
          "name": "stdout"
        }
      ]
    },
    {
      "cell_type": "code",
      "metadata": {
        "colab": {
          "base_uri": "https://localhost:8080/"
        },
        "id": "2bBy3vTDYR3f",
        "outputId": "638502e7-c35f-4efe-853e-8880dee7eca6"
      },
      "source": [
        "print(\"Среднее значение price всех данных = {:9.3f}\".format(y_train.price.mean()))\n",
        "for i in range(0,3):\n",
        "  print(\"Среднее значение price кластера {} = {:9.3f}\".format(i, y_train.price[train_labels == i].mean()))"
      ],
      "execution_count": 57,
      "outputs": [
        {
          "output_type": "stream",
          "text": [
            "Среднее значение price всех данных =    22.797\n",
            "Среднее значение price кластера 0 =    24.958\n",
            "Среднее значение price кластера 1 =    16.165\n",
            "Среднее значение price кластера 2 =    27.788\n"
          ],
          "name": "stdout"
        }
      ]
    },
    {
      "cell_type": "markdown",
      "metadata": {
        "id": "A2i-uG1MfY2e"
      },
      "source": [
        "##Задание 3"
      ]
    },
    {
      "cell_type": "markdown",
      "metadata": {
        "id": "7lcnGHwNdLDD"
      },
      "source": [
        "Примените модель KMeans, построенную в предыдущем задании,\n",
        "к данным из тестового набора.\n",
        "Вычислите средние значения price и CRIM в разных кластерах на тестовых данных.\n"
      ]
    },
    {
      "cell_type": "code",
      "metadata": {
        "id": "S2MiFkw5fgk4"
      },
      "source": [
        "X_test_scaled = pd.DataFrame(scaler.transform(X_test), columns=X_test.columns)\n",
        "test_labels = km_model.predict(X_test_scaled)"
      ],
      "execution_count": 52,
      "outputs": []
    },
    {
      "cell_type": "code",
      "metadata": {
        "colab": {
          "base_uri": "https://localhost:8080/"
        },
        "id": "FrDiwP4Jgq_v",
        "outputId": "dfd3d90f-dbfe-4215-a25d-4ac205cbaab8"
      },
      "source": [
        "print(\"Среднее значение CRIM всех тестовых данных = {:9.3f}\".format(X_test.CRIM.mean()))\n",
        "for i in range(0,3):\n",
        "  print(\"Среднее значение CRIM кластера {} = {:9.3f}\".format(i, X_test.CRIM[test_labels == i].mean()))\n",
        "print('\\n')\n",
        "print(\"Среднее значение price всех тестовых данных = {:9.3f}\".format(y_test.price.mean()))\n",
        "for i in range(0,3):\n",
        "  print(\"Среднее значение price кластера {} = {:9.3f}\".format(i, y_test.price[test_labels == i].mean()))"
      ],
      "execution_count": 58,
      "outputs": [
        {
          "output_type": "stream",
          "text": [
            "Среднее значение CRIM всех тестовых данных =     3.631\n",
            "Среднее значение CRIM кластера 0 =     0.266\n",
            "Среднее значение CRIM кластера 1 =    10.166\n",
            "Среднее значение CRIM кластера 2 =     0.062\n",
            "\n",
            "\n",
            "Среднее значение price всех тестовых данных =    21.488\n",
            "Среднее значение price кластера 0 =    21.861\n",
            "Среднее значение price кластера 1 =    16.437\n",
            "Среднее значение price кластера 2 =    31.350\n"
          ],
          "name": "stdout"
        }
      ]
    }
  ]
}