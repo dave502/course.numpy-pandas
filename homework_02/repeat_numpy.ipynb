{
  "nbformat": 4,
  "nbformat_minor": 0,
  "metadata": {
    "colab": {
      "name": "repeat.ipynb",
      "provenance": [],
      "collapsed_sections": [],
      "authorship_tag": "ABX9TyMF+EfB3Kh6jDpuCV898Q51",
      "include_colab_link": true
    },
    "kernelspec": {
      "name": "python3",
      "display_name": "Python 3"
    },
    "language_info": {
      "name": "python"
    }
  },
  "cells": [
    {
      "cell_type": "markdown",
      "metadata": {
        "id": "view-in-github",
        "colab_type": "text"
      },
      "source": [
        "<a href=\"https://colab.research.google.com/github/dave502/course.numpy-pandas/blob/main/homework_02/repeat_numpy.ipynb\" target=\"_parent\"><img src=\"https://colab.research.google.com/assets/colab-badge.svg\" alt=\"Open In Colab\"/></a>"
      ]
    },
    {
      "cell_type": "code",
      "metadata": {
        "id": "g1rP8OZxRZai"
      },
      "source": [
        "import numpy as np"
      ],
      "execution_count": 2,
      "outputs": []
    },
    {
      "cell_type": "markdown",
      "metadata": {
        "id": "MuCyeWm3RPDQ"
      },
      "source": [
        "1. Создать одномерный массив Numpy под названием a из 12 последовательных целых чисел чисел от 12 до 24 невключительно\n"
      ]
    },
    {
      "cell_type": "code",
      "metadata": {
        "colab": {
          "base_uri": "https://localhost:8080/"
        },
        "id": "jodFUoFdRHbq",
        "outputId": "6c7357c1-dcc5-41f4-b231-7b8b6cd44f9c"
      },
      "source": [
        "a = np.arange(12, 24)\n",
        "a"
      ],
      "execution_count": 3,
      "outputs": [
        {
          "output_type": "execute_result",
          "data": {
            "text/plain": [
              "array([12, 13, 14, 15, 16, 17, 18, 19, 20, 21, 22, 23])"
            ]
          },
          "metadata": {
            "tags": []
          },
          "execution_count": 3
        }
      ]
    },
    {
      "cell_type": "markdown",
      "metadata": {
        "id": "e0uQAN32S0pk"
      },
      "source": [
        "2. Создать 5 двумерных массивов разной формы из массива a. Не использовать в аргументах метода reshape число -1.\n"
      ]
    },
    {
      "cell_type": "code",
      "metadata": {
        "colab": {
          "base_uri": "https://localhost:8080/"
        },
        "id": "F3esIAPoSaWC",
        "outputId": "02a2c0a4-b0ff-459f-8c1d-0a8a57b1544c"
      },
      "source": [
        "for i in range(2, int(a.size+1)):\n",
        "  if not a.size % i:\n",
        "    print('\\t') \n",
        "    print(np.reshape(a, (i, int(a.size/i)))) "
      ],
      "execution_count": 4,
      "outputs": [
        {
          "output_type": "stream",
          "text": [
            "\t\n",
            "[[12 13 14 15 16 17]\n",
            " [18 19 20 21 22 23]]\n",
            "\t\n",
            "[[12 13 14 15]\n",
            " [16 17 18 19]\n",
            " [20 21 22 23]]\n",
            "\t\n",
            "[[12 13 14]\n",
            " [15 16 17]\n",
            " [18 19 20]\n",
            " [21 22 23]]\n",
            "\t\n",
            "[[12 13]\n",
            " [14 15]\n",
            " [16 17]\n",
            " [18 19]\n",
            " [20 21]\n",
            " [22 23]]\n",
            "\t\n",
            "[[12]\n",
            " [13]\n",
            " [14]\n",
            " [15]\n",
            " [16]\n",
            " [17]\n",
            " [18]\n",
            " [19]\n",
            " [20]\n",
            " [21]\n",
            " [22]\n",
            " [23]]\n"
          ],
          "name": "stdout"
        }
      ]
    },
    {
      "cell_type": "markdown",
      "metadata": {
        "id": "rkPPSpN4WFQT"
      },
      "source": [
        "3. Создать 5 двумерных массивов разной формы из массива a. Использовать в аргументах метода reshape число -1 (в трех примерах - для обозначения числа столбцов, в двух - для строк)."
      ]
    },
    {
      "cell_type": "code",
      "metadata": {
        "colab": {
          "base_uri": "https://localhost:8080/"
        },
        "id": "tnyMqmsvT1w4",
        "outputId": "3bbd6698-3613-4e30-dc8e-5788a7081fe3"
      },
      "source": [
        "count = 0\n",
        "for i in range(2, int(a.size+1)):\n",
        "  if not a.size % i:\n",
        "    count += 1\n",
        "    print('\\t') \n",
        "    if count < 4:\n",
        "      print('автоматическое определение количества столбцов')\n",
        "      print(np.reshape(a, (i, -1)))\n",
        "    else: \n",
        "      print('автоматическое определение количества строк')\n",
        "      print(np.reshape(a, (-1, int(a.size/i))))"
      ],
      "execution_count": 5,
      "outputs": [
        {
          "output_type": "stream",
          "text": [
            "\t\n",
            "автоматическое определение количества столбцов\n",
            "[[12 13 14 15 16 17]\n",
            " [18 19 20 21 22 23]]\n",
            "\t\n",
            "автоматическое определение количества столбцов\n",
            "[[12 13 14 15]\n",
            " [16 17 18 19]\n",
            " [20 21 22 23]]\n",
            "\t\n",
            "автоматическое определение количества столбцов\n",
            "[[12 13 14]\n",
            " [15 16 17]\n",
            " [18 19 20]\n",
            " [21 22 23]]\n",
            "\t\n",
            "автоматическое определение количества строк\n",
            "[[12 13]\n",
            " [14 15]\n",
            " [16 17]\n",
            " [18 19]\n",
            " [20 21]\n",
            " [22 23]]\n",
            "\t\n",
            "автоматическое определение количества строк\n",
            "[[12]\n",
            " [13]\n",
            " [14]\n",
            " [15]\n",
            " [16]\n",
            " [17]\n",
            " [18]\n",
            " [19]\n",
            " [20]\n",
            " [21]\n",
            " [22]\n",
            " [23]]\n"
          ],
          "name": "stdout"
        }
      ]
    },
    {
      "cell_type": "markdown",
      "metadata": {
        "id": "J-YkoKPagyCS"
      },
      "source": [
        "4.Можно ли массив Numpy, состоящий из одного столбца и 12 строк, назвать одномерным?\n"
      ]
    },
    {
      "cell_type": "code",
      "metadata": {
        "id": "0g4HBu8kac0V"
      },
      "source": [
        "# массив, для обращения к элементам которого требуется указать два измерения, является двумерным, следовательно \n",
        "# массив, состоящий из одного столбца, является двумерным."
      ],
      "execution_count": 6,
      "outputs": []
    },
    {
      "cell_type": "markdown",
      "metadata": {
        "id": "PXb9nX3Cj7mu"
      },
      "source": [
        "5.Создать массив из 3 строк и 4 столбцов, состоящий из случайных чисел с плавающей запятой из нормального распределения со средним, равным 0 и среднеквадратичным отклонением, равным 1.0. Получить из этого массива одномерный массив с таким же атрибутом size, как и исходный массив.\n"
      ]
    },
    {
      "cell_type": "code",
      "metadata": {
        "colab": {
          "base_uri": "https://localhost:8080/"
        },
        "id": "PMulg93tiIPi",
        "outputId": "5fe6fa74-523c-4d80-853a-188548ed90b8"
      },
      "source": [
        "arr = np.random.randn(3, 4)\n",
        "print (arr)\n",
        "fl_arr = arr.flatten()\n",
        "print (\"new array fl_arr has size = {} and shape = {}\".format(fl_arr.size, fl_arr.shape))"
      ],
      "execution_count": 7,
      "outputs": [
        {
          "output_type": "stream",
          "text": [
            "[[ 0.77402969  0.31319444 -0.62842061 -0.17419328]\n",
            " [-0.66382285  1.25139809 -0.5824125   0.16293669]\n",
            " [ 0.25031601 -0.19592819 -0.47468484  1.9914666 ]]\n",
            "new array fl_arr has size = 12 and shape = (12,)\n"
          ],
          "name": "stdout"
        }
      ]
    },
    {
      "cell_type": "markdown",
      "metadata": {
        "id": "VKA-IFhOnOIP"
      },
      "source": [
        "6.Создать массив a, состоящий из целых чисел, убывающих от 20 до 0 невключительно с интервалом 2."
      ]
    },
    {
      "cell_type": "code",
      "metadata": {
        "colab": {
          "base_uri": "https://localhost:8080/"
        },
        "id": "zi_QI8qrkyVz",
        "outputId": "d9f54311-8baa-402c-97b6-478f2464793e"
      },
      "source": [
        "a = np.arange(20, 0, -2)\n",
        "a"
      ],
      "execution_count": 8,
      "outputs": [
        {
          "output_type": "execute_result",
          "data": {
            "text/plain": [
              "array([20, 18, 16, 14, 12, 10,  8,  6,  4,  2])"
            ]
          },
          "metadata": {
            "tags": []
          },
          "execution_count": 8
        }
      ]
    },
    {
      "cell_type": "markdown",
      "metadata": {
        "id": "piPLqNRDn6n7"
      },
      "source": [
        "7.Создать массив b, состоящий из 1 строки и 10 столбцов: целых чисел, убывающих от 20 до 1 невключительно с интервалом 2. В чем разница между массивами a и b?\n"
      ]
    },
    {
      "cell_type": "code",
      "metadata": {
        "colab": {
          "base_uri": "https://localhost:8080/"
        },
        "id": "fUDPr1ocnnA3",
        "outputId": "1116ef74-18b4-4760-d590-0750ce3dfa85"
      },
      "source": [
        "b = np.arange(20, 0, -2).reshape(1, 10)\n",
        "# отличие a от b  в размерности. a - одномерный (вектор), b - двумерный\n",
        "b"
      ],
      "execution_count": 9,
      "outputs": [
        {
          "output_type": "execute_result",
          "data": {
            "text/plain": [
              "array([[20, 18, 16, 14, 12, 10,  8,  6,  4,  2]])"
            ]
          },
          "metadata": {
            "tags": []
          },
          "execution_count": 9
        }
      ]
    },
    {
      "cell_type": "markdown",
      "metadata": {
        "id": "XwI3M0n_qH0y"
      },
      "source": [
        "8.Вертикально соединить массивы a и b. a - двумерный массив из нулей, число строк которого больше 1 и на 1 меньше, чем число строк двумерного массива b, состоящего из единиц. Итоговый массив v должен иметь атрибут size, равный 10."
      ]
    },
    {
      "cell_type": "code",
      "metadata": {
        "colab": {
          "base_uri": "https://localhost:8080/"
        },
        "id": "u3Yx4RHypT2T",
        "outputId": "ed1211d9-0f49-43f5-fc86-7fcc17775277"
      },
      "source": [
        "a = np.zeros((2,2))\n",
        "b = np.ones((3,2))\n",
        "v = np.vstack((a, b))\n",
        "v"
      ],
      "execution_count": 10,
      "outputs": [
        {
          "output_type": "execute_result",
          "data": {
            "text/plain": [
              "array([[0., 0.],\n",
              "       [0., 0.],\n",
              "       [1., 1.],\n",
              "       [1., 1.],\n",
              "       [1., 1.]])"
            ]
          },
          "metadata": {
            "tags": []
          },
          "execution_count": 10
        }
      ]
    },
    {
      "cell_type": "markdown",
      "metadata": {
        "id": "yW25cW8ZriKz"
      },
      "source": [
        "9.Создать одномерный массив а, состоящий из последовательности целых чисел от 0 до 12. Поменять форму этого массива, чтобы получилась матрица A (двумерный массив Numpy), состоящая из 4 строк и 3 столбцов. Получить матрицу At путем транспонирования матрицы A. Получить матрицу B, умножив матрицу A на матрицу At с помощью матричного умножения. Какой размер имеет матрица B? Получится ли вычислить обратную матрицу для матрицы B и почему?"
      ]
    },
    {
      "cell_type": "code",
      "metadata": {
        "colab": {
          "base_uri": "https://localhost:8080/"
        },
        "id": "ZPjELdQdqowH",
        "outputId": "70f5bc8e-1ee2-48f5-8b41-52bd32ebf185"
      },
      "source": [
        "a = np.arange(0, 12)\n",
        "A = a.reshape(4,3) \n",
        "A"
      ],
      "execution_count": 11,
      "outputs": [
        {
          "output_type": "execute_result",
          "data": {
            "text/plain": [
              "array([[ 0,  1,  2],\n",
              "       [ 3,  4,  5],\n",
              "       [ 6,  7,  8],\n",
              "       [ 9, 10, 11]])"
            ]
          },
          "metadata": {
            "tags": []
          },
          "execution_count": 11
        }
      ]
    },
    {
      "cell_type": "code",
      "metadata": {
        "colab": {
          "base_uri": "https://localhost:8080/"
        },
        "id": "ygBCvszSxiv0",
        "outputId": "2927c976-81a3-4532-f852-2467ed98f42a"
      },
      "source": [
        "At = A.T\n",
        "At"
      ],
      "execution_count": 12,
      "outputs": [
        {
          "output_type": "execute_result",
          "data": {
            "text/plain": [
              "array([[ 0,  3,  6,  9],\n",
              "       [ 1,  4,  7, 10],\n",
              "       [ 2,  5,  8, 11]])"
            ]
          },
          "metadata": {
            "tags": []
          },
          "execution_count": 12
        }
      ]
    },
    {
      "cell_type": "code",
      "metadata": {
        "colab": {
          "base_uri": "https://localhost:8080/"
        },
        "id": "tsenvaXzxxZu",
        "outputId": "87aca67a-e841-4c0f-dfc9-7daa7006ba4e"
      },
      "source": [
        "B = np.dot(A, At)\n",
        "# размер будет 4 х 4 (кол-во строк множимого х кол-во столбцов множителя)\n",
        "print (\"array size for B is {} and shape = {}\".format(B.size, B.shape))\n",
        "B"
      ],
      "execution_count": 54,
      "outputs": [
        {
          "output_type": "stream",
          "text": [
            "array size for B is 16 and shape = (4, 4)\n"
          ],
          "name": "stdout"
        },
        {
          "output_type": "execute_result",
          "data": {
            "text/plain": [
              "array([[  5,  14,  23,  32],\n",
              "       [ 14,  50,  86, 122],\n",
              "       [ 23,  86, 149, 212],\n",
              "       [ 32, 122, 212, 302]])"
            ]
          },
          "metadata": {
            "tags": []
          },
          "execution_count": 54
        }
      ]
    },
    {
      "cell_type": "code",
      "metadata": {
        "id": "bwmP4xV5ygfK",
        "colab": {
          "base_uri": "https://localhost:8080/"
        },
        "outputId": "0c769b77-9fd4-47b9-8025-8cbbc18a5de3"
      },
      "source": [
        "try:\n",
        "    np.linalg.inv(B) \n",
        "except Exception as e:\n",
        "    print(str(e))  # сингулярная матрица"
      ],
      "execution_count": 55,
      "outputs": [
        {
          "output_type": "stream",
          "text": [
            "Singular matrix\n"
          ],
          "name": "stdout"
        }
      ]
    },
    {
      "cell_type": "markdown",
      "metadata": {
        "id": "SXfJ9kXDCHx9"
      },
      "source": [
        "10.Инициализируйте генератор случайных числе с помощью объекта seed, равного 42.\n"
      ]
    },
    {
      "cell_type": "code",
      "metadata": {
        "id": "nKz_8zbL9Y60"
      },
      "source": [
        "np.random.seed(42)"
      ],
      "execution_count": 56,
      "outputs": []
    },
    {
      "cell_type": "markdown",
      "metadata": {
        "id": "wUqtxrDTFFIZ"
      },
      "source": [
        "11.Создайте одномерный массив c, составленный из последовательности 16-ти случайных равномерно распределенных целых чисел от 0 до 16 невключительно. "
      ]
    },
    {
      "cell_type": "code",
      "metadata": {
        "colab": {
          "base_uri": "https://localhost:8080/"
        },
        "id": "67LRGcGnFA4K",
        "outputId": "266de7a5-6df0-40f9-942d-1692f79ea11d"
      },
      "source": [
        "c = np.random.rand(16)\n",
        "c"
      ],
      "execution_count": 57,
      "outputs": [
        {
          "output_type": "execute_result",
          "data": {
            "text/plain": [
              "array([0.37454012, 0.95071431, 0.73199394, 0.59865848, 0.15601864,\n",
              "       0.15599452, 0.05808361, 0.86617615, 0.60111501, 0.70807258,\n",
              "       0.02058449, 0.96990985, 0.83244264, 0.21233911, 0.18182497,\n",
              "       0.18340451])"
            ]
          },
          "metadata": {
            "tags": []
          },
          "execution_count": 57
        }
      ]
    },
    {
      "cell_type": "markdown",
      "metadata": {
        "id": "DhvLpFahFj9k"
      },
      "source": [
        "12.Поменяйте его форму так, чтобы получилась квадратная матрица C. Получите матрицу D, поэлементно прибавив матрицу B из предыдущего вопроса к матрице C, умноженной на 10. Вычислите определитель, ранг и обратную матрицу D_inv для D."
      ]
    },
    {
      "cell_type": "code",
      "metadata": {
        "colab": {
          "base_uri": "https://localhost:8080/"
        },
        "id": "S7lS30DVFTnE",
        "outputId": "56991a71-7ecd-4e4f-ab0a-02bd89218a88"
      },
      "source": [
        "C = c.reshape(int(np.sqrt(c.size)), -1)\n",
        "C # квадратная матрица"
      ],
      "execution_count": 58,
      "outputs": [
        {
          "output_type": "execute_result",
          "data": {
            "text/plain": [
              "array([[0.37454012, 0.95071431, 0.73199394, 0.59865848],\n",
              "       [0.15601864, 0.15599452, 0.05808361, 0.86617615],\n",
              "       [0.60111501, 0.70807258, 0.02058449, 0.96990985],\n",
              "       [0.83244264, 0.21233911, 0.18182497, 0.18340451]])"
            ]
          },
          "metadata": {
            "tags": []
          },
          "execution_count": 58
        }
      ]
    },
    {
      "cell_type": "code",
      "metadata": {
        "colab": {
          "base_uri": "https://localhost:8080/"
        },
        "id": "KVjD14yZGQy-",
        "outputId": "4cf2ba14-1360-457a-9910-89258d3b09b5"
      },
      "source": [
        "D = C*10 + B\n",
        "D"
      ],
      "execution_count": 59,
      "outputs": [
        {
          "output_type": "execute_result",
          "data": {
            "text/plain": [
              "array([[  8.74540119,  23.50714306,  30.31993942,  37.98658484],\n",
              "       [ 15.5601864 ,  51.5599452 ,  86.58083612, 130.66176146],\n",
              "       [ 29.01115012,  93.08072578, 149.20584494, 221.69909852],\n",
              "       [ 40.32442641, 124.12339111, 213.81824967, 303.8340451 ]])"
            ]
          },
          "metadata": {
            "tags": []
          },
          "execution_count": 59
        }
      ]
    },
    {
      "cell_type": "code",
      "metadata": {
        "colab": {
          "base_uri": "https://localhost:8080/"
        },
        "id": "cpE362e1GfwP",
        "outputId": "629a7893-dee2-4d3e-cd97-f854a182f570"
      },
      "source": [
        "D_inv = np.linalg.inv(D)\n",
        "print (\" определитель матрицы D = {}, \\n ранг матрицы D = {}, \\n обратная матрица = \\n{}\". \\\n",
        "       format(np.linalg.det(D),  np.linalg.matrix_rank(D), D_inv))"
      ],
      "execution_count": 60,
      "outputs": [
        {
          "output_type": "stream",
          "text": [
            " определитель матрицы D = -646.0341329026203, \n",
            " ранг матрицы D = 4, \n",
            " обратная матрица = \n",
            "[[-12.1682279  -29.82828331  17.10864067   1.86508147]\n",
            " [  4.66373225  11.16906589  -6.34968859  -0.75307179]\n",
            " [  2.45639627   5.92435938  -3.52400049  -0.28347582]\n",
            " [ -2.01894361  -4.77323096   2.80332105   0.2628994 ]]\n"
          ],
          "name": "stdout"
        }
      ]
    },
    {
      "cell_type": "markdown",
      "metadata": {
        "id": "b4gUNWiCN_LC"
      },
      "source": [
        "13.Приравняйте к нулю отрицательные числа в матрице D_inv, а положительные - к единице. Убедитесь, что в матрице D_inv остались только нули и единицы. С помощью функции numpy.where, используя матрицу D_inv в качестве маски, а матрицы B и C - в качестве источников данных, получите матрицу E размером 4x4.  Элементы матрицы E, для которых соответствующий элемент матрицы D_inv равен 1, должны быть равны соответствующему элементу матрицы B, а элементы матрицы E, для которых соответствующий элемент матрицы D_inv равен 0, должны быть равны соответствующему элементу матрицы C."
      ]
    },
    {
      "cell_type": "code",
      "metadata": {
        "colab": {
          "base_uri": "https://localhost:8080/"
        },
        "id": "eHtd6czsNflM",
        "outputId": "faf93e06-5851-45f4-ca79-6011784747b1"
      },
      "source": [
        "D_inv[np.where((D_inv<0))] = 0\n",
        "D_inv[np.where((D_inv>0))] = 1 \n",
        "D_inv = D_inv.astype(np.int, copy=False)\n",
        "D_inv # Убедитесь, что в матрице D_inv остались только нули и единицы. "
      ],
      "execution_count": 61,
      "outputs": [
        {
          "output_type": "execute_result",
          "data": {
            "text/plain": [
              "array([[0, 0, 1, 1],\n",
              "       [1, 1, 0, 0],\n",
              "       [1, 1, 0, 0],\n",
              "       [0, 0, 1, 1]])"
            ]
          },
          "metadata": {
            "tags": []
          },
          "execution_count": 61
        }
      ]
    },
    {
      "cell_type": "code",
      "metadata": {
        "colab": {
          "base_uri": "https://localhost:8080/"
        },
        "id": "IcOL2Y88Q1vt",
        "outputId": "d8d9a7c8-cf3d-4d36-f2b0-3e9b24ae08ad"
      },
      "source": [
        "E = np.where(D_inv, B, C)\n",
        "E"
      ],
      "execution_count": 62,
      "outputs": [
        {
          "output_type": "execute_result",
          "data": {
            "text/plain": [
              "array([[3.74540119e-01, 9.50714306e-01, 2.30000000e+01, 3.20000000e+01],\n",
              "       [1.40000000e+01, 5.00000000e+01, 5.80836122e-02, 8.66176146e-01],\n",
              "       [2.30000000e+01, 8.60000000e+01, 2.05844943e-02, 9.69909852e-01],\n",
              "       [8.32442641e-01, 2.12339111e-01, 2.12000000e+02, 3.02000000e+02]])"
            ]
          },
          "metadata": {
            "tags": []
          },
          "execution_count": 62
        }
      ]
    }
  ]
}