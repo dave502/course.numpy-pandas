{
  "nbformat": 4,
  "nbformat_minor": 0,
  "metadata": {
    "colab": {
      "name": "hw_numpy.ipynb",
      "provenance": [],
      "collapsed_sections": [],
      "mount_file_id": "1UkWBwdGHDhH79eIx1sTu0aw_RMRIeqhB",
      "authorship_tag": "ABX9TyNBG2bFJXY9PXe12LyBKfAL",
      "include_colab_link": true
    },
    "kernelspec": {
      "name": "python3",
      "display_name": "Python 3"
    },
    "language_info": {
      "name": "python"
    }
  },
  "cells": [
    {
      "cell_type": "markdown",
      "metadata": {
        "id": "view-in-github",
        "colab_type": "text"
      },
      "source": [
        "<a href=\"https://colab.research.google.com/github/dave502/course.numpy-pandas/blob/main/hw_numpy.ipynb\" target=\"_parent\"><img src=\"https://colab.research.google.com/assets/colab-badge.svg\" alt=\"Open In Colab\"/></a>"
      ]
    },
    {
      "cell_type": "code",
      "metadata": {
        "id": "PPE51GCmPB3l"
      },
      "source": [
        "import numpy as np"
      ],
      "execution_count": null,
      "outputs": []
    },
    {
      "cell_type": "code",
      "metadata": {
        "id": "u573AioVBAsB"
      },
      "source": [
        ""
      ],
      "execution_count": null,
      "outputs": []
    },
    {
      "cell_type": "code",
      "metadata": {
        "colab": {
          "base_uri": "https://localhost:8080/"
        },
        "id": "5g1ZplgZMDYG",
        "outputId": "63d1eb0c-31e3-40bb-8c85-6fdb71eade27"
      },
      "source": [
        "v1 = np.array([ 1, 2, 3, 3, 1])\n",
        "v2 = np.array([ 6, 8, 11, 10, 7])\n",
        "a = np.concatenate((v1.reshape(-1,1), v2.reshape(-1,1)), axis=1)\n",
        "mean_a = a.mean(axis=0)\n",
        "mean_a"
      ],
      "execution_count": null,
      "outputs": [
        {
          "output_type": "execute_result",
          "data": {
            "text/plain": [
              "array([2. , 8.4])"
            ]
          },
          "metadata": {
            "tags": []
          },
          "execution_count": 35
        }
      ]
    },
    {
      "cell_type": "code",
      "metadata": {
        "colab": {
          "base_uri": "https://localhost:8080/"
        },
        "id": "X1masqyy4xRh",
        "outputId": "d72012b8-3932-4401-9e55-e1c8f2c1579f"
      },
      "source": [
        "a_centered = a - mean_a \n",
        "a_centered"
      ],
      "execution_count": null,
      "outputs": [
        {
          "output_type": "execute_result",
          "data": {
            "text/plain": [
              "array([[-1. , -2.4],\n",
              "       [ 0. , -0.4],\n",
              "       [ 1. ,  2.6],\n",
              "       [ 1. ,  1.6],\n",
              "       [-1. , -1.4]])"
            ]
          },
          "metadata": {
            "tags": []
          },
          "execution_count": 36
        }
      ]
    },
    {
      "cell_type": "code",
      "metadata": {
        "colab": {
          "base_uri": "https://localhost:8080/"
        },
        "id": "G8m9qenvtJge",
        "outputId": "765dd673-8f4f-480b-e47c-0e91307dfc7c"
      },
      "source": [
        "a_centered_sp = a_centered[0:,0] @ a_centered[0:,1]\n",
        "result = a_centered_sp / (a.shape[0]-1)\n",
        "result"
      ],
      "execution_count": null,
      "outputs": [
        {
          "output_type": "execute_result",
          "data": {
            "text/plain": [
              "2.0"
            ]
          },
          "metadata": {
            "tags": []
          },
          "execution_count": 37
        }
      ]
    },
    {
      "cell_type": "code",
      "metadata": {
        "colab": {
          "base_uri": "https://localhost:8080/"
        },
        "id": "ljbCVxSAyf_A",
        "outputId": "bb92a6a5-d951-4e4e-9ffe-d51aa9ebce41"
      },
      "source": [
        "a_cov = np.cov(a.T)\n",
        "a_cov[0,1]"
      ],
      "execution_count": null,
      "outputs": [
        {
          "output_type": "execute_result",
          "data": {
            "text/plain": [
              "2.0"
            ]
          },
          "metadata": {
            "tags": []
          },
          "execution_count": 38
        }
      ]
    },
    {
      "cell_type": "markdown",
      "metadata": {
        "id": "6H_45zAEMQOR"
      },
      "source": [
        ""
      ]
    }
  ]
}