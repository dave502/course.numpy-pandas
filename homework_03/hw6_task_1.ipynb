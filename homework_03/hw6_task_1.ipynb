{
  "nbformat": 4,
  "nbformat_minor": 0,
  "metadata": {
    "colab": {
      "name": "hw6_task_1.ipynb",
      "provenance": [],
      "collapsed_sections": [],
      "authorship_tag": "ABX9TyOBTT4M2mtGr1E/Rz3M9Pui",
      "include_colab_link": true
    },
    "kernelspec": {
      "name": "python3",
      "display_name": "Python 3"
    },
    "language_info": {
      "name": "python"
    }
  },
  "cells": [
    {
      "cell_type": "markdown",
      "metadata": {
        "id": "view-in-github",
        "colab_type": "text"
      },
      "source": [
        "<a href=\"https://colab.research.google.com/github/dave502/course.numpy-pandas/blob/main/homework_03/hw6_task_1.ipynb\" target=\"_parent\"><img src=\"https://colab.research.google.com/assets/colab-badge.svg\" alt=\"Open In Colab\"/></a>"
      ]
    },
    {
      "cell_type": "markdown",
      "metadata": {
        "id": "dJIQe0A_J41Z"
      },
      "source": [
        "##Задание 1"
      ]
    },
    {
      "cell_type": "markdown",
      "metadata": {
        "id": "K52dluOqJ9x0"
      },
      "source": [
        "Импортируйте библиотеки pandas и numpy.\n",
        "Загрузите \"Boston House Prices dataset\" из встроенных наборов данных библиотеки sklearn. Создайте датафреймы X и y из этих данных.\n",
        "Разбейте эти датафреймы на тренировочные (X_train, y_train) и тестовые (X_test, y_test) с помощью функции train_test_split так, чтобы размер тестовой выборки\n",
        "составлял 30% от всех данных, при этом аргумент random_state должен быть равен 42.\n"
      ]
    },
    {
      "cell_type": "code",
      "metadata": {
        "colab": {
          "base_uri": "https://localhost:8080/"
        },
        "id": "bOS3begUJuST",
        "outputId": "58d5fcd5-899d-42dc-ba2d-91a48e3e4d36"
      },
      "source": [
        "import numpy as np\n",
        "import pandas as pd\n",
        "from sklearn.model_selection import train_test_split\n",
        "from sklearn.metrics import r2_score\n",
        "from sklearn.linear_model import LinearRegression\n",
        "\n",
        "\n",
        "from sklearn.datasets import load_boston\n",
        "boston = load_boston()\n",
        "\n",
        "X = pd.DataFrame(boston[\"data\"], columns=boston[\"feature_names\"])\n",
        "y = pd.DataFrame(boston[\"target\"], columns=[\"price\"])\n",
        "\n",
        "X_train, X_test, y_train, y_test = train_test_split(X, y, test_size=0.3, random_state=42)\n",
        "X_train.info()\n",
        "X_test.info()"
      ],
      "execution_count": null,
      "outputs": [
        {
          "output_type": "stream",
          "text": [
            "<class 'pandas.core.frame.DataFrame'>\n",
            "Int64Index: 354 entries, 5 to 102\n",
            "Data columns (total 13 columns):\n",
            " #   Column   Non-Null Count  Dtype  \n",
            "---  ------   --------------  -----  \n",
            " 0   CRIM     354 non-null    float64\n",
            " 1   ZN       354 non-null    float64\n",
            " 2   INDUS    354 non-null    float64\n",
            " 3   CHAS     354 non-null    float64\n",
            " 4   NOX      354 non-null    float64\n",
            " 5   RM       354 non-null    float64\n",
            " 6   AGE      354 non-null    float64\n",
            " 7   DIS      354 non-null    float64\n",
            " 8   RAD      354 non-null    float64\n",
            " 9   TAX      354 non-null    float64\n",
            " 10  PTRATIO  354 non-null    float64\n",
            " 11  B        354 non-null    float64\n",
            " 12  LSTAT    354 non-null    float64\n",
            "dtypes: float64(13)\n",
            "memory usage: 38.7 KB\n",
            "<class 'pandas.core.frame.DataFrame'>\n",
            "Int64Index: 152 entries, 173 to 447\n",
            "Data columns (total 13 columns):\n",
            " #   Column   Non-Null Count  Dtype  \n",
            "---  ------   --------------  -----  \n",
            " 0   CRIM     152 non-null    float64\n",
            " 1   ZN       152 non-null    float64\n",
            " 2   INDUS    152 non-null    float64\n",
            " 3   CHAS     152 non-null    float64\n",
            " 4   NOX      152 non-null    float64\n",
            " 5   RM       152 non-null    float64\n",
            " 6   AGE      152 non-null    float64\n",
            " 7   DIS      152 non-null    float64\n",
            " 8   RAD      152 non-null    float64\n",
            " 9   TAX      152 non-null    float64\n",
            " 10  PTRATIO  152 non-null    float64\n",
            " 11  B        152 non-null    float64\n",
            " 12  LSTAT    152 non-null    float64\n",
            "dtypes: float64(13)\n",
            "memory usage: 16.6 KB\n"
          ],
          "name": "stdout"
        }
      ]
    },
    {
      "cell_type": "markdown",
      "metadata": {
        "id": "Z4xetkvMLtCi"
      },
      "source": [
        "Создайте модель линейной регрессии под названием lr с помощью класса LinearRegression из модуля sklearn.linear_model. Обучите модель на тренировочных данных (используйте все признаки) и сделайте предсказание на тестовых."
      ]
    },
    {
      "cell_type": "code",
      "metadata": {
        "id": "C5q6K7T_MW-W"
      },
      "source": [
        "lr = LinearRegression()\n",
        "lr.fit(X_train, y_train)\n",
        "y_pred = lr.predict(X_test)"
      ],
      "execution_count": null,
      "outputs": []
    },
    {
      "cell_type": "markdown",
      "metadata": {
        "id": "Cr2cwr16OdKG"
      },
      "source": [
        "Вычислите R2 полученных предказаний с помощью r2_score из модуля sklearn.metrics.\n"
      ]
    },
    {
      "cell_type": "code",
      "metadata": {
        "id": "NxtECOAiOA3p",
        "colab": {
          "base_uri": "https://localhost:8080/"
        },
        "outputId": "31c165dd-f1bd-4915-a7e5-37bb0ffbe46f"
      },
      "source": [
        "check_test = pd.DataFrame({\n",
        "    \"y_test\": y_test[\"price\"],\n",
        "    \"y_pred\": y_pred.flatten(),\n",
        "})\n",
        "r2_score(check_test[\"y_test\"], check_test[\"y_pred\"])"
      ],
      "execution_count": null,
      "outputs": [
        {
          "output_type": "execute_result",
          "data": {
            "text/plain": [
              "0.7112260057484974"
            ]
          },
          "metadata": {
            "tags": []
          },
          "execution_count": 16
        }
      ]
    }
  ]
}