{
  "nbformat": 4,
  "nbformat_minor": 0,
  "metadata": {
    "colab": {
      "name": "hw6_task_2.ipynb",
      "provenance": [],
      "collapsed_sections": [],
      "authorship_tag": "ABX9TyM18fjcbdj0DjOrg3MEskO/",
      "include_colab_link": true
    },
    "kernelspec": {
      "name": "python3",
      "display_name": "Python 3"
    },
    "language_info": {
      "name": "python"
    }
  },
  "cells": [
    {
      "cell_type": "markdown",
      "metadata": {
        "id": "view-in-github",
        "colab_type": "text"
      },
      "source": [
        "<a href=\"https://colab.research.google.com/github/dave502/course.numpy-pandas/blob/main/homework_03/hw6_task_2.ipynb\" target=\"_parent\"><img src=\"https://colab.research.google.com/assets/colab-badge.svg\" alt=\"Open In Colab\"/></a>"
      ]
    },
    {
      "cell_type": "markdown",
      "metadata": {
        "id": "4MzJftP6OHah"
      },
      "source": [
        "##Задание 2\n"
      ]
    },
    {
      "cell_type": "code",
      "metadata": {
        "id": "J7MQNc8XPoms"
      },
      "source": [
        ""
      ],
      "execution_count": null,
      "outputs": []
    },
    {
      "cell_type": "code",
      "metadata": {
        "id": "bOS3begUJuST"
      },
      "source": [
        "import numpy as np\n",
        "import pandas as pd\n",
        "from sklearn.model_selection import train_test_split\n",
        "from sklearn.metrics import r2_score\n",
        "\n",
        "from sklearn.datasets import load_boston\n",
        "boston = load_boston()\n",
        "\n",
        "X = pd.DataFrame(boston[\"data\"], columns=boston[\"feature_names\"])\n",
        "y = pd.DataFrame(boston[\"target\"], columns=[\"price\"])\n",
        "\n",
        "X_train, X_test, y_train, y_test = train_test_split(X, y, test_size=0.3, random_state=42)"
      ],
      "execution_count": null,
      "outputs": []
    },
    {
      "cell_type": "markdown",
      "metadata": {
        "id": "bAU67PhLOM4P"
      },
      "source": [
        "Создайте модель под названием model с помощью RandomForestRegressor из модуля sklearn.ensemble."
      ]
    },
    {
      "cell_type": "code",
      "metadata": {
        "id": "wNjeJkvAN_Td"
      },
      "source": [
        "from sklearn.ensemble import RandomForestRegressor\n",
        "model = RandomForestRegressor(n_estimators=1000, max_depth=12, random_state=42)"
      ],
      "execution_count": null,
      "outputs": []
    },
    {
      "cell_type": "markdown",
      "metadata": {
        "id": "qU-HLr8-PSmf"
      },
      "source": [
        "Обучите модель на тренировочных данных аналогично тому, как вы обучали модель LinearRegression"
      ]
    },
    {
      "cell_type": "code",
      "metadata": {
        "id": "RwnvqZ-sOxj9"
      },
      "source": [
        "model.fit(X_train, y_train.values[:, 0])\n",
        "y_pred = model.predict(X_test)"
      ],
      "execution_count": null,
      "outputs": []
    },
    {
      "cell_type": "markdown",
      "metadata": {
        "id": "Vgxt8RxGQdIl"
      },
      "source": [
        "Сделайте предсказание на тестовых данных и посчитайте R2. Сравните с результатом из предыдущего задания."
      ]
    },
    {
      "cell_type": "code",
      "metadata": {
        "colab": {
          "base_uri": "https://localhost:8080/"
        },
        "id": "mLMDlURqP3if",
        "outputId": "788492fa-c1d2-46ed-f275-d5807969d25b"
      },
      "source": [
        "r2_score(y_test[\"price\"], y_pred.flatten())"
      ],
      "execution_count": null,
      "outputs": [
        {
          "output_type": "execute_result",
          "data": {
            "text/plain": [
              "0.8749965273218174"
            ]
          },
          "metadata": {
            "tags": []
          },
          "execution_count": 8
        }
      ]
    },
    {
      "cell_type": "markdown",
      "metadata": {
        "id": "eNos8nufQezN"
      },
      "source": [
        "**У модели RandomForestRegressor результат предсказания значительно выше, чем у модели LinearRegression**"
      ]
    },
    {
      "cell_type": "markdown",
      "metadata": {
        "id": "tt8vpw7pZVqm"
      },
      "source": [
        "##Задание 3"
      ]
    },
    {
      "cell_type": "markdown",
      "metadata": {
        "id": "P5O3A0nVZTa-"
      },
      "source": [
        "Вызовите документацию для класса RandomForestRegressor,"
      ]
    },
    {
      "cell_type": "code",
      "metadata": {
        "id": "d6X1yG62ZOsC"
      },
      "source": [
        "from sklearn.ensemble import RandomForestRegressor\n",
        "help(RandomForestRegressor)"
      ],
      "execution_count": null,
      "outputs": []
    },
    {
      "cell_type": "markdown",
      "metadata": {
        "id": "YvS7knm_ZeiI"
      },
      "source": [
        "найдите информацию об атрибуте feature_importances_."
      ]
    },
    {
      "cell_type": "markdown",
      "metadata": {
        "id": "pag_aogMZgFN"
      },
      "source": [
        "*| Data descriptors inherited from BaseForest: |\n",
        "| feature_importances_ | Return the feature importances (the higher, the more important the | feature). |\n",
        "| Returns | ------- | feature_importances_ : array, shape = [n_features] | The values of this array sum to 1, unless all trees are single node | trees consisting of only the root node, in which case it will be an | array of zeros*"
      ]
    },
    {
      "cell_type": "markdown",
      "metadata": {
        "id": "o2A7I9ILYd7P"
      },
      "source": [
        "С помощью этого атрибута найдите сумму всех показателей важности"
      ]
    },
    {
      "cell_type": "code",
      "metadata": {
        "colab": {
          "base_uri": "https://localhost:8080/"
        },
        "id": "TfAbRZzHS5cf",
        "outputId": "f5470231-e04d-4463-e0a6-e892c355e201"
      },
      "source": [
        "print(\"model.feature_importances_: {}\".format(model.feature_importances_))\n",
        "print('сумма всех показателей важности = {}'.format(sum(model.feature_importances_)))"
      ],
      "execution_count": null,
      "outputs": [
        {
          "output_type": "stream",
          "text": [
            "model.feature_importances_: [0.03211748 0.00154999 0.0070941  0.0011488  0.01436832 0.40270459\n",
            " 0.01424477 0.06403265 0.00496762 0.01169177 0.01808961 0.0123114\n",
            " 0.41567892]\n",
            "сумма всех показателей важности = 1.0\n"
          ],
          "name": "stdout"
        }
      ]
    },
    {
      "cell_type": "markdown",
      "metadata": {
        "id": "NeaPXpnwYZSe"
      },
      "source": [
        "установите, какие два признака показывают наибольшую важность.\n"
      ]
    },
    {
      "cell_type": "code",
      "metadata": {
        "colab": {
          "base_uri": "https://localhost:8080/",
          "height": 296
        },
        "id": "jK4zJzKVS-5i",
        "outputId": "b9cf49ab-2364-4169-bbe3-18617b1760bd"
      },
      "source": [
        "from matplotlib import pyplot as plt\n",
        "plt.rcParams['figure.figsize'] = 6, 4\n",
        "%matplotlib inline\n",
        "\n",
        "plt.barh(boston[\"feature_names\"], model.feature_importances_)\n",
        "\n",
        "plt.xlabel(\"Вес признака\")\n",
        "plt.ylabel(\"Признак\")\n",
        "\n",
        "plt.show()\n",
        "print(\"Два признака показывают наибольшую важность: {}\".format(sorted(zip(boston[\"feature_names\"], model.feature_importances_), key=lambda x: x[1], reverse=True)[0:2]))"
      ],
      "execution_count": null,
      "outputs": [
        {
          "output_type": "display_data",
          "data": {
            "image/png": "[encoded data removed]",
            "text/plain": [
              "<Figure size 432x288 with 1 Axes>"
            ]
          },
          "metadata": {
            "tags": [],
            "needs_background": "light"
          }
        },
        {
          "output_type": "stream",
          "text": [
            "Два признака показывают наибольшую важность: [('LSTAT', 0.4156789214509943), ('RM', 0.402704591696731)]\n"
          ],
          "name": "stdout"
        }
      ]
    },
    {
      "cell_type": "code",
      "metadata": {
        "id": "GI3pvjOjYPPE"
      },
      "source": [
        ""
      ],
      "execution_count": null,
      "outputs": []
    }
  ]
}